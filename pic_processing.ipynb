{
 "cells": [
  {
   "cell_type": "code",
   "execution_count": null,
   "metadata": {},
   "outputs": [],
   "source": [
    "from PIL import Image\n",
    "\n",
    "def process_image(file_path):\n",
    "    # Открываем изображение\n",
    "    image = Image.open(file_path)\n",
    "    \n",
    "    # Проверяем, является ли формат PNG и содержит ли альфа-канал\n",
    "    if image.format == \"PNG\" and image.mode in (\"RGBA\", \"LA\"):\n",
    "        # Преобразуем фон в режим RGBA\n",
    "        background = Image.new(\"RGBA\", image.size, (255, 255, 255, 255))  # Белый фон с альфа-каналом\n",
    "        # Преобразуем изображение в RGBA\n",
    "        image = image.convert(\"RGBA\")\n",
    "        # Накладываем изображение на фон\n",
    "        image = Image.alpha_composite(background, image)\n",
    "    else:\n",
    "        # Если изображение не в режиме RGBA, преобразуем его в RGB\n",
    "        image = image.convert(\"RGB\")\n",
    "    \n",
    "    # Возвращаем обработанное изображение\n",
    "    return image\n",
    "\n",
    "# Пример использования\n",
    "file_path = \"kartinka.png\"  # Укажите путь к вашему файлу\n",
    "processed_image = process_image(file_path)\n",
    "\n",
    "# Преобразуем изображение в RGB, если нужно, перед сохранением в формате JPEG\n",
    "if processed_image.mode != \"RGB\":\n",
    "    processed_image = processed_image.convert(\"RGB\")\n",
    "\n",
    "processed_image.show()  # Покажем результат\n",
    "processed_image.save(\"obr_kartinka.jpg\")  # Сохраним в новый файл\n"
   ]
  }
 ],
 "metadata": {
  "kernelspec": {
   "display_name": "Python 3",
   "language": "python",
   "name": "python3"
  },
  "language_info": {
   "codemirror_mode": {
    "name": "ipython",
    "version": 3
   },
   "file_extension": ".py",
   "mimetype": "text/x-python",
   "name": "python",
   "nbconvert_exporter": "python",
   "pygments_lexer": "ipython3",
   "version": "3.12.0"
  }
 },
 "nbformat": 4,
 "nbformat_minor": 2
}
